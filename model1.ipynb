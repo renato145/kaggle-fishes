{
 "cells": [
  {
   "cell_type": "code",
   "execution_count": 2,
   "metadata": {},
   "outputs": [],
   "source": [
    "import h5py\n",
    "import numpy as np\n",
    "import matplotlib.pyplot as plt\n",
    "from keras.models import Sequential\n",
    "from keras.layers import BatchNormalization, Conv2D, Activation\n",
    "from keras.layers import GlobalMaxPooling2D, MaxPooling2D\n",
    "from keras.optimizers import Adam\n",
    "\n",
    "%matplotlib inline"
   ]
  },
  {
   "cell_type": "code",
   "execution_count": 23,
   "metadata": {
    "collapsed": true
   },
   "outputs": [],
   "source": [
    "DATA_FILE = 'data/pp_train_data.h5'\n",
    "METADATA = 'metadata.npy'"
   ]
  },
  {
   "cell_type": "code",
   "execution_count": 3,
   "metadata": {
    "collapsed": true
   },
   "outputs": [],
   "source": [
    "f = h5py.File(DATA_FILE, 'r')\n",
    "data_x = f['x']\n",
    "data_y = f['y']\n",
    "metadata = np.load(METADATA).item()"
   ]
  },
  {
   "cell_type": "code",
   "execution_count": 4,
   "metadata": {},
   "outputs": [
    {
     "name": "stdout",
     "output_type": "stream",
     "text": [
      "____________________________________________________________________________________________________\n",
      "Layer (type)                     Output Shape          Param #     Connected to                     \n",
      "====================================================================================================\n",
      "batchnormalization_1 (BatchNorma (None, 9, 15, 512)    2048        batchnormalization_input_1[0][0] \n",
      "____________________________________________________________________________________________________\n",
      "convolution2d_1 (Convolution2D)  (None, 9, 15, 128)    589952      batchnormalization_1[0][0]       \n",
      "____________________________________________________________________________________________________\n",
      "batchnormalization_2 (BatchNorma (None, 9, 15, 128)    512         convolution2d_1[0][0]            \n",
      "____________________________________________________________________________________________________\n",
      "activation_1 (Activation)        (None, 9, 15, 128)    0           batchnormalization_2[0][0]       \n",
      "____________________________________________________________________________________________________\n",
      "maxpooling2d_1 (MaxPooling2D)    (None, 4, 7, 128)     0           activation_1[0][0]               \n",
      "____________________________________________________________________________________________________\n",
      "convolution2d_2 (Convolution2D)  (None, 4, 7, 128)     147584      maxpooling2d_1[0][0]             \n",
      "____________________________________________________________________________________________________\n",
      "batchnormalization_3 (BatchNorma (None, 4, 7, 128)     512         convolution2d_2[0][0]            \n",
      "____________________________________________________________________________________________________\n",
      "activation_2 (Activation)        (None, 4, 7, 128)     0           batchnormalization_3[0][0]       \n",
      "____________________________________________________________________________________________________\n",
      "maxpooling2d_2 (MaxPooling2D)    (None, 2, 3, 128)     0           activation_2[0][0]               \n",
      "____________________________________________________________________________________________________\n",
      "convolution2d_3 (Convolution2D)  (None, 2, 3, 128)     147584      maxpooling2d_2[0][0]             \n",
      "____________________________________________________________________________________________________\n",
      "batchnormalization_4 (BatchNorma (None, 2, 3, 128)     512         convolution2d_3[0][0]            \n",
      "____________________________________________________________________________________________________\n",
      "activation_3 (Activation)        (None, 2, 3, 128)     0           batchnormalization_4[0][0]       \n",
      "____________________________________________________________________________________________________\n",
      "convolution2d_4 (Convolution2D)  (None, 2, 3, 8)       9224        activation_3[0][0]               \n",
      "____________________________________________________________________________________________________\n",
      "globalmaxpooling2d_1 (GlobalMaxP (None, 8)             0           convolution2d_4[0][0]            \n",
      "____________________________________________________________________________________________________\n",
      "activation_4 (Activation)        (None, 8)             0           globalmaxpooling2d_1[0][0]       \n",
      "====================================================================================================\n",
      "Total params: 897,928\n",
      "Trainable params: 896,136\n",
      "Non-trainable params: 1,792\n",
      "____________________________________________________________________________________________________\n"
     ]
    }
   ],
   "source": [
    "lr = 1e-3\n",
    "n_conv_layers = 3\n",
    "n_kernels = [128] * n_conv_layers\n",
    "mp_sizes = [(2,2) for _ in range(n_conv_layers)]\n",
    "\n",
    "model = Sequential()\n",
    "model.add(BatchNormalization(axis=3, input_shape=data_x.shape[1:]))\n",
    "for i in range(n_conv_layers):\n",
    "    model.add(Conv2D(n_kernels[i], 3, 3, init='he_uniform', border_mode='same'))\n",
    "    model.add(BatchNormalization(axis=3))\n",
    "    model.add(Activation('relu'))\n",
    "    if i < n_conv_layers - 1:\n",
    "        model.add(MaxPooling2D(mp_sizes[i]))\n",
    "\n",
    "model.add(Conv2D(8,3,3, border_mode='same'))\n",
    "model.add(GlobalMaxPooling2D())\n",
    "model.add(Activation('softmax'))\n",
    "model.compile(Adam(lr), loss='categorical_crossentropy', metrics=['accuracy'])\n",
    "model.summary()"
   ]
  },
  {
   "cell_type": "code",
   "execution_count": 5,
   "metadata": {
    "collapsed": true
   },
   "outputs": [],
   "source": [
    "from sklearn.model_selection import train_test_split\n",
    "\n",
    "data_x = np.asarray(data_x)\n",
    "data_y = np.asarray(data_y)\n",
    "X_train, X_test, y_train, y_test = train_test_split(data_x, data_y, test_size=0.15, random_state=42)\n",
    "\n",
    "del(data_x)\n",
    "del(data_y)"
   ]
  },
  {
   "cell_type": "code",
   "execution_count": 6,
   "metadata": {},
   "outputs": [
    {
     "name": "stdout",
     "output_type": "stream",
     "text": [
      "Train on 3210 samples, validate on 567 samples\n",
      "Epoch 1/5\n",
      "3210/3210 [==============================] - 10s - loss: 0.6710 - acc: 0.7857 - val_loss: 0.5319 - val_acc: 0.8907\n",
      "Epoch 2/5\n",
      "3210/3210 [==============================] - 6s - loss: 0.0692 - acc: 0.9850 - val_loss: 0.1820 - val_acc: 0.9453\n",
      "Epoch 3/5\n",
      "3210/3210 [==============================] - 6s - loss: 0.0162 - acc: 0.9972 - val_loss: 0.2187 - val_acc: 0.9524\n",
      "Epoch 4/5\n",
      "3210/3210 [==============================] - 6s - loss: 0.0054 - acc: 0.9994 - val_loss: 0.1556 - val_acc: 0.9612\n",
      "Epoch 5/5\n",
      "3210/3210 [==============================] - 6s - loss: 0.0017 - acc: 1.0000 - val_loss: 0.1587 - val_acc: 0.9647\n"
     ]
    },
    {
     "data": {
      "text/plain": [
       "<keras.callbacks.History at 0x7f1fc96cdb00>"
      ]
     },
     "execution_count": 6,
     "metadata": {},
     "output_type": "execute_result"
    }
   ],
   "source": [
    "model.fit(X_train, y_train, batch_size=64, nb_epoch=5,\n",
    "          validation_data=(X_test, y_test))"
   ]
  },
  {
   "cell_type": "code",
   "execution_count": 8,
   "metadata": {},
   "outputs": [
    {
     "data": {
      "image/png": "[encoded data removed]",
      "text/plain": [
       "<matplotlib.figure.Figure at 0x7f1fc90bac88>"
      ]
     },
     "metadata": {},
     "output_type": "display_data"
    }
   ],
   "source": [
    "def plot_model(model):\n",
    "    plots = [i for i in model.model.history.history.keys() if i.find('val_') == -1]\n",
    "    plt.figure(figsize=(17,10))\n",
    "\n",
    "    for i, p in enumerate(plots):\n",
    "        plt.subplot(len(plots), 2, i + 1)\n",
    "        plt.title(p)\n",
    "        plt.plot(model.model.history.history[p], label=p)\n",
    "        plt.plot(model.model.history.history['val_'+p], label='val_'+p)\n",
    "        plt.legend()\n",
    "\n",
    "    plt.show()\n",
    "    \n",
    "plot_model(model)"
   ]
  },
  {
   "cell_type": "code",
   "execution_count": 11,
   "metadata": {},
   "outputs": [
    {
     "name": "stdout",
     "output_type": "stream",
     "text": [
      "Train on 3210 samples, validate on 567 samples\n",
      "Epoch 1/5\n",
      "3210/3210 [==============================] - 6s - loss: 0.0012 - acc: 1.0000 - val_loss: 0.1543 - val_acc: 0.9647\n",
      "Epoch 2/5\n",
      "3210/3210 [==============================] - 6s - loss: 0.0012 - acc: 1.0000 - val_loss: 0.1531 - val_acc: 0.9647\n",
      "Epoch 3/5\n",
      "3210/3210 [==============================] - 6s - loss: 0.0011 - acc: 1.0000 - val_loss: 0.1517 - val_acc: 0.9647\n",
      "Epoch 4/5\n",
      "3210/3210 [==============================] - 6s - loss: 0.0011 - acc: 1.0000 - val_loss: 0.1515 - val_acc: 0.9647\n",
      "Epoch 5/5\n",
      "3210/3210 [==============================] - 6s - loss: 0.0010 - acc: 1.0000 - val_loss: 0.1519 - val_acc: 0.9647\n"
     ]
    },
    {
     "data": {
      "image/png": "[encoded data removed]",
      "text/plain": [
       "<matplotlib.figure.Figure at 0x7f20268b8c50>"
      ]
     },
     "metadata": {},
     "output_type": "display_data"
    }
   ],
   "source": [
    "from keras import backend as K\n",
    "\n",
    "K.eval(model.optimizer.lr.assign(1e-4))\n",
    "model.fit(X_train, y_train, batch_size=64, nb_epoch=5,\n",
    "          validation_data=(X_test, y_test))\n",
    "plot_model(model)"
   ]
  },
  {
   "cell_type": "code",
   "execution_count": 12,
   "metadata": {
    "collapsed": true
   },
   "outputs": [],
   "source": [
    "model.save('model1.h5')"
   ]
  },
  {
   "cell_type": "markdown",
   "metadata": {},
   "source": [
    "# Build submit file"
   ]
  },
  {
   "cell_type": "code",
   "execution_count": 3,
   "metadata": {
    "collapsed": true
   },
   "outputs": [],
   "source": [
    "from keras.models import load_model\n",
    "\n",
    "model = load_model('model1.h5')"
   ]
  },
  {
   "cell_type": "code",
   "execution_count": 13,
   "metadata": {
    "collapsed": true
   },
   "outputs": [],
   "source": [
    "import os\n",
    "import PIL\n",
    "from keras.applications.vgg16 import preprocess_input, VGG16\n",
    "\n",
    "DATA_FOLDER = 'data/test'\n",
    "PP_TEST_DATA = 'data/pp_test_data.npy'\n",
    "SHAPE = (300, 500, 3)\n",
    "\n",
    "files = os.listdir(DATA_FOLDER)\n",
    "n_files = len(files)"
   ]
  },
  {
   "cell_type": "code",
   "execution_count": 34,
   "metadata": {},
   "outputs": [
    {
     "name": "stdout",
     "output_type": "stream",
     "text": [
      "0999/1000\r"
     ]
    }
   ],
   "source": [
    "batch_x = np.ndarray((n_files, *SHAPE), dtype=np.float32)\n",
    "\n",
    "for idx, file in enumerate(files):\n",
    "    print('%04d/%04d' % (idx, n_files), end='\\r')\n",
    "    path = os.path.join(DATA_FOLDER, file)\n",
    "    img = PIL.Image.open(path)\n",
    "    img = img.resize(SHAPE[:2][::-1])\n",
    "    img = np.asarray(img, dtype=np.float32)\n",
    "    batch_x[idx] = img"
   ]
  },
  {
   "cell_type": "code",
   "execution_count": 36,
   "metadata": {
    "collapsed": true
   },
   "outputs": [],
   "source": [
    "batch_x = preprocess_input(batch_x)"
   ]
  },
  {
   "cell_type": "code",
   "execution_count": 46,
   "metadata": {},
   "outputs": [
    {
     "name": "stdout",
     "output_type": "stream",
     "text": [
      "1000/1000 [==============================] - 129s   \n"
     ]
    }
   ],
   "source": [
    "base_model = VGG16(include_top=False, input_shape=SHAPE)\n",
    "base_model.layers.pop()\n",
    "preds = base_model.predict(batch_x, batch_size=16, verbose=1)"
   ]
  },
  {
   "cell_type": "code",
   "execution_count": 55,
   "metadata": {},
   "outputs": [],
   "source": [
    "np.save(PP_TEST_DATA, preds)"
   ]
  },
  {
   "cell_type": "code",
   "execution_count": 7,
   "metadata": {},
   "outputs": [],
   "source": [
    "preds = np.load(PP_TEST_DATA)"
   ]
  },
  {
   "cell_type": "code",
   "execution_count": 8,
   "metadata": {},
   "outputs": [
    {
     "name": "stdout",
     "output_type": "stream",
     "text": [
      "1000/1000 [==============================] - 1s     \n"
     ]
    }
   ],
   "source": [
    "result = model.predict(preds, verbose=1)"
   ]
  },
  {
   "cell_type": "code",
   "execution_count": 42,
   "metadata": {},
   "outputs": [],
   "source": [
    "import pandas as pd\n",
    "\n",
    "metadata = np.load(METADATA).item()\n",
    "cols = ['image','ALB','BET','DOL','LAG','NoF','OTHER','SHARK','YFT']\n",
    "df = pd.DataFrame(columns=cols)"
   ]
  },
  {
   "cell_type": "code",
   "execution_count": 43,
   "metadata": {},
   "outputs": [
    {
     "data": {
      "text/html": [
       "<div>\n",
       "<table border=\"1\" class=\"dataframe\">\n",
       "  <thead>\n",
       "    <tr style=\"text-align: right;\">\n",
       "      <th></th>\n",
       "      <th>image</th>\n",
       "      <th>ALB</th>\n",
       "      <th>BET</th>\n",
       "      <th>DOL</th>\n",
       "      <th>LAG</th>\n",
       "      <th>NoF</th>\n",
       "      <th>OTHER</th>\n",
       "      <th>SHARK</th>\n",
       "      <th>YFT</th>\n",
       "    </tr>\n",
       "  </thead>\n",
       "  <tbody>\n",
       "    <tr>\n",
       "      <th>0</th>\n",
       "      <td>img_00030.jpg</td>\n",
       "      <td>NaN</td>\n",
       "      <td>NaN</td>\n",
       "      <td>NaN</td>\n",
       "      <td>NaN</td>\n",
       "      <td>NaN</td>\n",
       "      <td>NaN</td>\n",
       "      <td>NaN</td>\n",
       "      <td>NaN</td>\n",
       "    </tr>\n",
       "    <tr>\n",
       "      <th>1</th>\n",
       "      <td>img_06734.jpg</td>\n",
       "      <td>NaN</td>\n",
       "      <td>NaN</td>\n",
       "      <td>NaN</td>\n",
       "      <td>NaN</td>\n",
       "      <td>NaN</td>\n",
       "      <td>NaN</td>\n",
       "      <td>NaN</td>\n",
       "      <td>NaN</td>\n",
       "    </tr>\n",
       "    <tr>\n",
       "      <th>2</th>\n",
       "      <td>img_07505.jpg</td>\n",
       "      <td>NaN</td>\n",
       "      <td>NaN</td>\n",
       "      <td>NaN</td>\n",
       "      <td>NaN</td>\n",
       "      <td>NaN</td>\n",
       "      <td>NaN</td>\n",
       "      <td>NaN</td>\n",
       "      <td>NaN</td>\n",
       "    </tr>\n",
       "    <tr>\n",
       "      <th>3</th>\n",
       "      <td>img_02416.jpg</td>\n",
       "      <td>NaN</td>\n",
       "      <td>NaN</td>\n",
       "      <td>NaN</td>\n",
       "      <td>NaN</td>\n",
       "      <td>NaN</td>\n",
       "      <td>NaN</td>\n",
       "      <td>NaN</td>\n",
       "      <td>NaN</td>\n",
       "    </tr>\n",
       "    <tr>\n",
       "      <th>4</th>\n",
       "      <td>img_03946.jpg</td>\n",
       "      <td>NaN</td>\n",
       "      <td>NaN</td>\n",
       "      <td>NaN</td>\n",
       "      <td>NaN</td>\n",
       "      <td>NaN</td>\n",
       "      <td>NaN</td>\n",
       "      <td>NaN</td>\n",
       "      <td>NaN</td>\n",
       "    </tr>\n",
       "  </tbody>\n",
       "</table>\n",
       "</div>"
      ],
      "text/plain": [
       "           image  ALB  BET  DOL  LAG  NoF OTHER SHARK  YFT\n",
       "0  img_00030.jpg  NaN  NaN  NaN  NaN  NaN   NaN   NaN  NaN\n",
       "1  img_06734.jpg  NaN  NaN  NaN  NaN  NaN   NaN   NaN  NaN\n",
       "2  img_07505.jpg  NaN  NaN  NaN  NaN  NaN   NaN   NaN  NaN\n",
       "3  img_02416.jpg  NaN  NaN  NaN  NaN  NaN   NaN   NaN  NaN\n",
       "4  img_03946.jpg  NaN  NaN  NaN  NaN  NaN   NaN   NaN  NaN"
      ]
     },
     "execution_count": 43,
     "metadata": {},
     "output_type": "execute_result"
    }
   ],
   "source": [
    "df['image'] = files\n",
    "df.head()"
   ]
  },
  {
   "cell_type": "code",
   "execution_count": 45,
   "metadata": {},
   "outputs": [
    {
     "data": {
      "text/html": [
       "<div>\n",
       "<table border=\"1\" class=\"dataframe\">\n",
       "  <thead>\n",
       "    <tr style=\"text-align: right;\">\n",
       "      <th></th>\n",
       "      <th>image</th>\n",
       "      <th>ALB</th>\n",
       "      <th>BET</th>\n",
       "      <th>DOL</th>\n",
       "      <th>LAG</th>\n",
       "      <th>NoF</th>\n",
       "      <th>OTHER</th>\n",
       "      <th>SHARK</th>\n",
       "      <th>YFT</th>\n",
       "    </tr>\n",
       "  </thead>\n",
       "  <tbody>\n",
       "    <tr>\n",
       "      <th>0</th>\n",
       "      <td>img_00030.jpg</td>\n",
       "      <td>0.432685</td>\n",
       "      <td>0.007141</td>\n",
       "      <td>0.002860</td>\n",
       "      <td>0.001178</td>\n",
       "      <td>0.520540</td>\n",
       "      <td>0.004832</td>\n",
       "      <td>0.010292</td>\n",
       "      <td>0.020472</td>\n",
       "    </tr>\n",
       "    <tr>\n",
       "      <th>1</th>\n",
       "      <td>img_06734.jpg</td>\n",
       "      <td>0.993056</td>\n",
       "      <td>0.000842</td>\n",
       "      <td>0.000194</td>\n",
       "      <td>0.000145</td>\n",
       "      <td>0.001343</td>\n",
       "      <td>0.000454</td>\n",
       "      <td>0.000324</td>\n",
       "      <td>0.003643</td>\n",
       "    </tr>\n",
       "    <tr>\n",
       "      <th>2</th>\n",
       "      <td>img_07505.jpg</td>\n",
       "      <td>0.996463</td>\n",
       "      <td>0.000127</td>\n",
       "      <td>0.000061</td>\n",
       "      <td>0.000024</td>\n",
       "      <td>0.001385</td>\n",
       "      <td>0.000100</td>\n",
       "      <td>0.000066</td>\n",
       "      <td>0.001773</td>\n",
       "    </tr>\n",
       "    <tr>\n",
       "      <th>3</th>\n",
       "      <td>img_02416.jpg</td>\n",
       "      <td>0.792422</td>\n",
       "      <td>0.056673</td>\n",
       "      <td>0.004556</td>\n",
       "      <td>0.009916</td>\n",
       "      <td>0.083681</td>\n",
       "      <td>0.015647</td>\n",
       "      <td>0.003613</td>\n",
       "      <td>0.033492</td>\n",
       "    </tr>\n",
       "    <tr>\n",
       "      <th>4</th>\n",
       "      <td>img_03946.jpg</td>\n",
       "      <td>0.241361</td>\n",
       "      <td>0.247240</td>\n",
       "      <td>0.003883</td>\n",
       "      <td>0.011097</td>\n",
       "      <td>0.008507</td>\n",
       "      <td>0.035933</td>\n",
       "      <td>0.048822</td>\n",
       "      <td>0.403156</td>\n",
       "    </tr>\n",
       "  </tbody>\n",
       "</table>\n",
       "</div>"
      ],
      "text/plain": [
       "           image       ALB       BET       DOL       LAG       NoF     OTHER  \\\n",
       "0  img_00030.jpg  0.432685  0.007141  0.002860  0.001178  0.520540  0.004832   \n",
       "1  img_06734.jpg  0.993056  0.000842  0.000194  0.000145  0.001343  0.000454   \n",
       "2  img_07505.jpg  0.996463  0.000127  0.000061  0.000024  0.001385  0.000100   \n",
       "3  img_02416.jpg  0.792422  0.056673  0.004556  0.009916  0.083681  0.015647   \n",
       "4  img_03946.jpg  0.241361  0.247240  0.003883  0.011097  0.008507  0.035933   \n",
       "\n",
       "      SHARK       YFT  \n",
       "0  0.010292  0.020472  \n",
       "1  0.000324  0.003643  \n",
       "2  0.000066  0.001773  \n",
       "3  0.003613  0.033492  \n",
       "4  0.048822  0.403156  "
      ]
     },
     "execution_count": 45,
     "metadata": {},
     "output_type": "execute_result"
    }
   ],
   "source": [
    "for col in cols[1:]:\n",
    "    df[col] = result[:, np.argmax(metadata[col])]\n",
    "\n",
    "df.head()"
   ]
  },
  {
   "cell_type": "code",
   "execution_count": 55,
   "metadata": {
    "collapsed": true
   },
   "outputs": [],
   "source": [
    "df.to_csv('data/submission.csv', index=False)"
   ]
  },
  {
   "cell_type": "code",
   "execution_count": null,
   "metadata": {
    "collapsed": true
   },
   "outputs": [],
   "source": []
  },
  {
   "cell_type": "code",
   "execution_count": null,
   "metadata": {
    "collapsed": true
   },
   "outputs": [],
   "source": []
  },
  {
   "cell_type": "code",
   "execution_count": null,
   "metadata": {
    "collapsed": true
   },
   "outputs": [],
   "source": []
  }
 ],
 "metadata": {
  "kernelspec": {
   "display_name": "Python 3",
   "language": "python",
   "name": "python3"
  },
  "language_info": {
   "codemirror_mode": {
    "name": "ipython",
    "version": 3
   },
   "file_extension": ".py",
   "mimetype": "text/x-python",
   "name": "python",
   "nbconvert_exporter": "python",
   "pygments_lexer": "ipython3",
   "version": "3.6.1"
  }
 },
 "nbformat": 4,
 "nbformat_minor": 2
}
