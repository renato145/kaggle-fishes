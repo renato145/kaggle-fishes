{
 "cells": [
  {
   "cell_type": "code",
   "execution_count": 1,
   "metadata": {},
   "outputs": [
    {
     "name": "stderr",
     "output_type": "stream",
     "text": [
      "Using TensorFlow backend.\n"
     ]
    }
   ],
   "source": [
    "import os\n",
    "import PIL\n",
    "import h5py\n",
    "import math\n",
    "import numpy as np\n",
    "import matplotlib.pyplot as plt\n",
    "from keras.applications.vgg16 import preprocess_input, VGG16\n",
    "from keras.preprocessing.image import ImageDataGenerator\n",
    "from keras.utils.np_utils import to_categorical\n",
    "%matplotlib inline"
   ]
  },
  {
   "cell_type": "code",
   "execution_count": 2,
   "metadata": {
    "collapsed": true
   },
   "outputs": [],
   "source": [
    "OUT_FILE = 'data/pp_train_data.h5'\n",
    "METADATA = 'metadata.npy'\n",
    "DATA_FOLDER = 'data/train'\n",
    "SHAPE = (300, 500, 3)\n",
    "BATCH_SIZE = 16"
   ]
  },
  {
   "cell_type": "code",
   "execution_count": 3,
   "metadata": {},
   "outputs": [
    {
     "name": "stdout",
     "output_type": "stream",
     "text": [
      "model output shape: (None, 9, 15, 512)\n"
     ]
    }
   ],
   "source": [
    "labels = os.listdir(DATA_FOLDER)\n",
    "labels_path = [os.path.join(DATA_FOLDER, l) for l in labels]\n",
    "n_labels = len(labels)\n",
    "n_images = np.sum([len(os.listdir(l)) for l in labels_path])\n",
    "\n",
    "label2idx = {j:to_categorical(i, n_labels)[0] for i,j in enumerate(labels)}\n",
    "np.save(METADATA, label2idx)\n",
    "\n",
    "model = VGG16(include_top=False, input_shape=SHAPE)\n",
    "model.layers.pop()\n",
    "    \n",
    "print(f'model output shape: {model.output_shape}')\n",
    "\n",
    "f = h5py.File(OUT_FILE)\n",
    "output_shape = (n_images, *model.output_shape[1:])\n",
    "chunk_shape = (BATCH_SIZE, *model.output_shape[1:])\n",
    "try:\n",
    "    f.pop('x')\n",
    "    f.pop('y')\n",
    "except:\n",
    "    None\n",
    "\n",
    "img_data = f.create_dataset('x', shape=output_shape,\n",
    "                            dtype=np.float32, chunks=chunk_shape)\n",
    "labels_data = f.create_dataset('y', shape=(n_images, n_labels),\n",
    "                               dtype=np.float32, chunks=(BATCH_SIZE, n_labels))"
   ]
  },
  {
   "cell_type": "code",
   "execution_count": 4,
   "metadata": {},
   "outputs": [
    {
     "name": "stdout",
     "output_type": "stream",
     "text": [
      "DOL: Done                                         \n",
      "YFT: Done                                         \n",
      "NoF: Done                                         \n",
      "BET: Done                                         \n",
      "LAG: Done                                         \n",
      "OTHER: Done                                       \n",
      "ALB: Done                                         \n",
      "SHARK: Done                                       \n",
      "Done (618.57s)\n"
     ]
    }
   ],
   "source": [
    "from collections import deque\n",
    "from time import time\n",
    "\n",
    "t0 = time()\n",
    "ts = deque(maxlen=5)\n",
    "idxx = 0\n",
    "\n",
    "for path, label in zip(labels_path, labels):\n",
    "    files = os.listdir(path)\n",
    "    n_files = len(files)\n",
    "    next_idxx = idxx + n_files\n",
    "    labels_data[idxx:next_idxx] = label2idx[label]\n",
    "    idx = 0\n",
    "    for i in range(math.ceil(n_files / BATCH_SIZE)):\n",
    "        tt0 = time()\n",
    "        eta = np.mean(ts) * (n_images - idxx - idx) if len(ts) != 0 else 999\n",
    "        print('%s: %04d/%04d (ETA: %.2fs)...' %\n",
    "              (label, idx, n_files, eta), end='\\r')\n",
    "        next_idx = min(n_files, idx + BATCH_SIZE)\n",
    "        batch_n = next_idx - idx\n",
    "        batch_x = np.ndarray((batch_n, *SHAPE), dtype=np.float32)\n",
    "        for j in range(batch_n):\n",
    "            img = PIL.Image.open(os.path.join(path, files[idx + j]))\n",
    "            img = img.resize(SHAPE[:2][::-1])\n",
    "            img = np.asarray(img, dtype=np.float32)\n",
    "            batch_x[j] = img\n",
    "    \n",
    "        batch_x = preprocess_input(batch_x)\n",
    "        img_data[idxx + idx:idxx + idx + batch_n] = model.predict(batch_x)\n",
    "        idx = next_idx\n",
    "        ts.append((time() - tt0) / batch_n)\n",
    "    \n",
    "    idxx = next_idxx\n",
    "    print(' '*50, end='\\r')\n",
    "    print(f'{label}: Done')\n",
    "    \n",
    "print('Done (%.2fs)' % (time() - t0))"
   ]
  },
  {
   "cell_type": "code",
   "execution_count": 5,
   "metadata": {
    "collapsed": true
   },
   "outputs": [],
   "source": [
    "f.close()"
   ]
  }
 ],
 "metadata": {
  "kernelspec": {
   "display_name": "Python 3",
   "language": "python",
   "name": "python3"
  },
  "language_info": {
   "codemirror_mode": {
    "name": "ipython",
    "version": 3
   },
   "file_extension": ".py",
   "mimetype": "text/x-python",
   "name": "python",
   "nbconvert_exporter": "python",
   "pygments_lexer": "ipython3",
   "version": "3.6.1"
  }
 },
 "nbformat": 4,
 "nbformat_minor": 2
}
