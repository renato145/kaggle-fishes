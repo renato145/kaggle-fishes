{
 "cells": [
  {
   "cell_type": "code",
   "execution_count": 2,
   "metadata": {},
   "outputs": [
    {
     "name": "stderr",
     "output_type": "stream",
     "text": [
      "Using TensorFlow backend.\n"
     ]
    }
   ],
   "source": [
    "from keras.models import load_model\n",
    "\n",
    "model = load_model('model1.h5')"
   ]
  },
  {
   "cell_type": "code",
   "execution_count": 10,
   "metadata": {
    "collapsed": true
   },
   "outputs": [],
   "source": [
    "import os\n",
    "import PIL\n",
    "from PIL import Image\n",
    "from keras.applications.vgg16 import preprocess_input, VGG16\n",
    "\n",
    "DATA_FOLDER = 'data/test_stg2/'\n",
    "PP_TEST_DATA = 'data/pp_test2_data.npy'\n",
    "SHAPE = (300, 500, 3)\n",
    "\n",
    "files = os.listdir(DATA_FOLDER)\n",
    "n_files = len(files)"
   ]
  },
  {
   "cell_type": "code",
   "execution_count": 11,
   "metadata": {},
   "outputs": [
    {
     "name": "stdout",
     "output_type": "stream",
     "text": [
      "12152/12153\r"
     ]
    }
   ],
   "source": [
    "import numpy as np\n",
    "\n",
    "batch_x = np.ndarray((n_files, *SHAPE), dtype=np.float32)\n",
    "\n",
    "for idx, file in enumerate(files):\n",
    "    print('%04d/%04d' % (idx, n_files), end='\\r')\n",
    "    path = os.path.join(DATA_FOLDER, file)\n",
    "    img = Image.open(path)\n",
    "    img = img.resize(SHAPE[:2][::-1])\n",
    "    img = np.asarray(img, dtype=np.float32)\n",
    "    batch_x[idx] = img"
   ]
  },
  {
   "cell_type": "code",
   "execution_count": 12,
   "metadata": {
    "collapsed": true
   },
   "outputs": [],
   "source": [
    "batch_x = preprocess_input(batch_x)"
   ]
  },
  {
   "cell_type": "code",
   "execution_count": 13,
   "metadata": {},
   "outputs": [
    {
     "name": "stdout",
     "output_type": "stream",
     "text": [
      "12153/12153 [==============================] - 1529s  \n"
     ]
    }
   ],
   "source": [
    "base_model = VGG16(include_top=False, input_shape=SHAPE)\n",
    "base_model.layers.pop()\n",
    "preds = base_model.predict(batch_x, batch_size=16, verbose=1)"
   ]
  },
  {
   "cell_type": "code",
   "execution_count": 15,
   "metadata": {
    "collapsed": true
   },
   "outputs": [],
   "source": [
    "np.save(PP_TEST_DATA, preds)"
   ]
  },
  {
   "cell_type": "code",
   "execution_count": 16,
   "metadata": {
    "collapsed": true
   },
   "outputs": [],
   "source": [
    "preds = np.load(PP_TEST_DATA)"
   ]
  },
  {
   "cell_type": "code",
   "execution_count": 17,
   "metadata": {},
   "outputs": [
    {
     "data": {
      "text/plain": [
       "(12153, 9, 15, 512)"
      ]
     },
     "execution_count": 17,
     "metadata": {},
     "output_type": "execute_result"
    }
   ],
   "source": [
    "preds.shape"
   ]
  },
  {
   "cell_type": "code",
   "execution_count": 18,
   "metadata": {},
   "outputs": [
    {
     "name": "stdout",
     "output_type": "stream",
     "text": [
      "12153/12153 [==============================] - 17s    \n"
     ]
    }
   ],
   "source": [
    "result = model.predict(preds, verbose=1)"
   ]
  },
  {
   "cell_type": "code",
   "execution_count": 21,
   "metadata": {},
   "outputs": [],
   "source": [
    "import pandas as pd\n",
    "\n",
    "METADATA = 'metadata.npy'\n",
    "metadata = np.load(METADATA).item()\n",
    "cols = ['image','ALB','BET','DOL','LAG','NoF','OTHER','SHARK','YFT']\n",
    "df = pd.DataFrame(columns=cols)"
   ]
  },
  {
   "cell_type": "code",
   "execution_count": 25,
   "metadata": {},
   "outputs": [
    {
     "data": {
      "text/html": [
       "<div>\n",
       "<table border=\"1\" class=\"dataframe\">\n",
       "  <thead>\n",
       "    <tr style=\"text-align: right;\">\n",
       "      <th></th>\n",
       "      <th>image</th>\n",
       "      <th>ALB</th>\n",
       "      <th>BET</th>\n",
       "      <th>DOL</th>\n",
       "      <th>LAG</th>\n",
       "      <th>NoF</th>\n",
       "      <th>OTHER</th>\n",
       "      <th>SHARK</th>\n",
       "      <th>YFT</th>\n",
       "    </tr>\n",
       "  </thead>\n",
       "  <tbody>\n",
       "    <tr>\n",
       "      <th>0</th>\n",
       "      <td>test_stg2/image_11459.jpg</td>\n",
       "      <td>NaN</td>\n",
       "      <td>NaN</td>\n",
       "      <td>NaN</td>\n",
       "      <td>NaN</td>\n",
       "      <td>NaN</td>\n",
       "      <td>NaN</td>\n",
       "      <td>NaN</td>\n",
       "      <td>NaN</td>\n",
       "    </tr>\n",
       "    <tr>\n",
       "      <th>1</th>\n",
       "      <td>test_stg2/image_10781.jpg</td>\n",
       "      <td>NaN</td>\n",
       "      <td>NaN</td>\n",
       "      <td>NaN</td>\n",
       "      <td>NaN</td>\n",
       "      <td>NaN</td>\n",
       "      <td>NaN</td>\n",
       "      <td>NaN</td>\n",
       "      <td>NaN</td>\n",
       "    </tr>\n",
       "    <tr>\n",
       "      <th>2</th>\n",
       "      <td>test_stg2/image_06154.jpg</td>\n",
       "      <td>NaN</td>\n",
       "      <td>NaN</td>\n",
       "      <td>NaN</td>\n",
       "      <td>NaN</td>\n",
       "      <td>NaN</td>\n",
       "      <td>NaN</td>\n",
       "      <td>NaN</td>\n",
       "      <td>NaN</td>\n",
       "    </tr>\n",
       "    <tr>\n",
       "      <th>3</th>\n",
       "      <td>test_stg2/image_11821.jpg</td>\n",
       "      <td>NaN</td>\n",
       "      <td>NaN</td>\n",
       "      <td>NaN</td>\n",
       "      <td>NaN</td>\n",
       "      <td>NaN</td>\n",
       "      <td>NaN</td>\n",
       "      <td>NaN</td>\n",
       "      <td>NaN</td>\n",
       "    </tr>\n",
       "    <tr>\n",
       "      <th>4</th>\n",
       "      <td>test_stg2/image_11635.jpg</td>\n",
       "      <td>NaN</td>\n",
       "      <td>NaN</td>\n",
       "      <td>NaN</td>\n",
       "      <td>NaN</td>\n",
       "      <td>NaN</td>\n",
       "      <td>NaN</td>\n",
       "      <td>NaN</td>\n",
       "      <td>NaN</td>\n",
       "    </tr>\n",
       "  </tbody>\n",
       "</table>\n",
       "</div>"
      ],
      "text/plain": [
       "                       image  ALB  BET  DOL  LAG  NoF OTHER SHARK  YFT\n",
       "0  test_stg2/image_11459.jpg  NaN  NaN  NaN  NaN  NaN   NaN   NaN  NaN\n",
       "1  test_stg2/image_10781.jpg  NaN  NaN  NaN  NaN  NaN   NaN   NaN  NaN\n",
       "2  test_stg2/image_06154.jpg  NaN  NaN  NaN  NaN  NaN   NaN   NaN  NaN\n",
       "3  test_stg2/image_11821.jpg  NaN  NaN  NaN  NaN  NaN   NaN   NaN  NaN\n",
       "4  test_stg2/image_11635.jpg  NaN  NaN  NaN  NaN  NaN   NaN   NaN  NaN"
      ]
     },
     "execution_count": 25,
     "metadata": {},
     "output_type": "execute_result"
    }
   ],
   "source": [
    "df['image'] = ['test_stg2/' + f for f in files]\n",
    "df.head()"
   ]
  },
  {
   "cell_type": "code",
   "execution_count": 26,
   "metadata": {},
   "outputs": [
    {
     "data": {
      "text/html": [
       "<div>\n",
       "<table border=\"1\" class=\"dataframe\">\n",
       "  <thead>\n",
       "    <tr style=\"text-align: right;\">\n",
       "      <th></th>\n",
       "      <th>image</th>\n",
       "      <th>ALB</th>\n",
       "      <th>BET</th>\n",
       "      <th>DOL</th>\n",
       "      <th>LAG</th>\n",
       "      <th>NoF</th>\n",
       "      <th>OTHER</th>\n",
       "      <th>SHARK</th>\n",
       "      <th>YFT</th>\n",
       "    </tr>\n",
       "  </thead>\n",
       "  <tbody>\n",
       "    <tr>\n",
       "      <th>0</th>\n",
       "      <td>test_stg2/image_11459.jpg</td>\n",
       "      <td>0.924618</td>\n",
       "      <td>0.004355</td>\n",
       "      <td>0.002970</td>\n",
       "      <td>0.001399</td>\n",
       "      <td>0.052963</td>\n",
       "      <td>0.001906</td>\n",
       "      <td>0.002618</td>\n",
       "      <td>0.009172</td>\n",
       "    </tr>\n",
       "    <tr>\n",
       "      <th>1</th>\n",
       "      <td>test_stg2/image_10781.jpg</td>\n",
       "      <td>0.402149</td>\n",
       "      <td>0.082876</td>\n",
       "      <td>0.007072</td>\n",
       "      <td>0.005011</td>\n",
       "      <td>0.388063</td>\n",
       "      <td>0.038563</td>\n",
       "      <td>0.017514</td>\n",
       "      <td>0.058751</td>\n",
       "    </tr>\n",
       "    <tr>\n",
       "      <th>2</th>\n",
       "      <td>test_stg2/image_06154.jpg</td>\n",
       "      <td>0.818096</td>\n",
       "      <td>0.017827</td>\n",
       "      <td>0.003842</td>\n",
       "      <td>0.013560</td>\n",
       "      <td>0.048237</td>\n",
       "      <td>0.003596</td>\n",
       "      <td>0.033409</td>\n",
       "      <td>0.061433</td>\n",
       "    </tr>\n",
       "    <tr>\n",
       "      <th>3</th>\n",
       "      <td>test_stg2/image_11821.jpg</td>\n",
       "      <td>0.818837</td>\n",
       "      <td>0.011370</td>\n",
       "      <td>0.004948</td>\n",
       "      <td>0.002379</td>\n",
       "      <td>0.128117</td>\n",
       "      <td>0.007060</td>\n",
       "      <td>0.007577</td>\n",
       "      <td>0.019712</td>\n",
       "    </tr>\n",
       "    <tr>\n",
       "      <th>4</th>\n",
       "      <td>test_stg2/image_11635.jpg</td>\n",
       "      <td>0.815055</td>\n",
       "      <td>0.028674</td>\n",
       "      <td>0.003532</td>\n",
       "      <td>0.004618</td>\n",
       "      <td>0.102342</td>\n",
       "      <td>0.007310</td>\n",
       "      <td>0.004337</td>\n",
       "      <td>0.034132</td>\n",
       "    </tr>\n",
       "  </tbody>\n",
       "</table>\n",
       "</div>"
      ],
      "text/plain": [
       "                       image       ALB       BET       DOL       LAG  \\\n",
       "0  test_stg2/image_11459.jpg  0.924618  0.004355  0.002970  0.001399   \n",
       "1  test_stg2/image_10781.jpg  0.402149  0.082876  0.007072  0.005011   \n",
       "2  test_stg2/image_06154.jpg  0.818096  0.017827  0.003842  0.013560   \n",
       "3  test_stg2/image_11821.jpg  0.818837  0.011370  0.004948  0.002379   \n",
       "4  test_stg2/image_11635.jpg  0.815055  0.028674  0.003532  0.004618   \n",
       "\n",
       "        NoF     OTHER     SHARK       YFT  \n",
       "0  0.052963  0.001906  0.002618  0.009172  \n",
       "1  0.388063  0.038563  0.017514  0.058751  \n",
       "2  0.048237  0.003596  0.033409  0.061433  \n",
       "3  0.128117  0.007060  0.007577  0.019712  \n",
       "4  0.102342  0.007310  0.004337  0.034132  "
      ]
     },
     "execution_count": 26,
     "metadata": {},
     "output_type": "execute_result"
    }
   ],
   "source": [
    "for col in cols[1:]:\n",
    "    df[col] = result[:, np.argmax(metadata[col])]\n",
    "\n",
    "df.head()"
   ]
  },
  {
   "cell_type": "code",
   "execution_count": 28,
   "metadata": {
    "collapsed": true
   },
   "outputs": [],
   "source": [
    "df.to_csv('data/submission_test2.csv', index=False)"
   ]
  },
  {
   "cell_type": "markdown",
   "metadata": {
    "collapsed": true
   },
   "source": [
    "# Merge submissions"
   ]
  },
  {
   "cell_type": "code",
   "execution_count": 29,
   "metadata": {
    "collapsed": true
   },
   "outputs": [],
   "source": [
    "df2 = pd.read_csv('data/submission_test1.csv')"
   ]
  },
  {
   "cell_type": "code",
   "execution_count": 34,
   "metadata": {},
   "outputs": [],
   "source": [
    "df2.sort_values('image', inplace=True)"
   ]
  },
  {
   "cell_type": "code",
   "execution_count": 36,
   "metadata": {},
   "outputs": [
    {
     "data": {
      "text/html": [
       "<div>\n",
       "<table border=\"1\" class=\"dataframe\">\n",
       "  <thead>\n",
       "    <tr style=\"text-align: right;\">\n",
       "      <th></th>\n",
       "      <th>image</th>\n",
       "      <th>ALB</th>\n",
       "      <th>BET</th>\n",
       "      <th>DOL</th>\n",
       "      <th>LAG</th>\n",
       "      <th>NoF</th>\n",
       "      <th>OTHER</th>\n",
       "      <th>SHARK</th>\n",
       "      <th>YFT</th>\n",
       "    </tr>\n",
       "  </thead>\n",
       "  <tbody>\n",
       "    <tr>\n",
       "      <th>98</th>\n",
       "      <td>img_00005.jpg</td>\n",
       "      <td>0.002081</td>\n",
       "      <td>0.000037</td>\n",
       "      <td>0.000018</td>\n",
       "      <td>0.000007</td>\n",
       "      <td>0.997741</td>\n",
       "      <td>0.000070</td>\n",
       "      <td>0.000020</td>\n",
       "      <td>0.000026</td>\n",
       "    </tr>\n",
       "    <tr>\n",
       "      <th>709</th>\n",
       "      <td>img_00007.jpg</td>\n",
       "      <td>0.841953</td>\n",
       "      <td>0.010561</td>\n",
       "      <td>0.002981</td>\n",
       "      <td>0.006471</td>\n",
       "      <td>0.003779</td>\n",
       "      <td>0.024229</td>\n",
       "      <td>0.003413</td>\n",
       "      <td>0.106613</td>\n",
       "    </tr>\n",
       "    <tr>\n",
       "      <th>141</th>\n",
       "      <td>img_00009.jpg</td>\n",
       "      <td>0.998159</td>\n",
       "      <td>0.000564</td>\n",
       "      <td>0.000054</td>\n",
       "      <td>0.000041</td>\n",
       "      <td>0.000054</td>\n",
       "      <td>0.000201</td>\n",
       "      <td>0.000043</td>\n",
       "      <td>0.000884</td>\n",
       "    </tr>\n",
       "    <tr>\n",
       "      <th>124</th>\n",
       "      <td>img_00018.jpg</td>\n",
       "      <td>0.953298</td>\n",
       "      <td>0.008528</td>\n",
       "      <td>0.001035</td>\n",
       "      <td>0.002662</td>\n",
       "      <td>0.001320</td>\n",
       "      <td>0.008410</td>\n",
       "      <td>0.003950</td>\n",
       "      <td>0.020796</td>\n",
       "    </tr>\n",
       "    <tr>\n",
       "      <th>669</th>\n",
       "      <td>img_00027.jpg</td>\n",
       "      <td>0.194681</td>\n",
       "      <td>0.013352</td>\n",
       "      <td>0.001617</td>\n",
       "      <td>0.001859</td>\n",
       "      <td>0.005537</td>\n",
       "      <td>0.751229</td>\n",
       "      <td>0.006689</td>\n",
       "      <td>0.025035</td>\n",
       "    </tr>\n",
       "  </tbody>\n",
       "</table>\n",
       "</div>"
      ],
      "text/plain": [
       "             image       ALB       BET       DOL       LAG       NoF  \\\n",
       "98   img_00005.jpg  0.002081  0.000037  0.000018  0.000007  0.997741   \n",
       "709  img_00007.jpg  0.841953  0.010561  0.002981  0.006471  0.003779   \n",
       "141  img_00009.jpg  0.998159  0.000564  0.000054  0.000041  0.000054   \n",
       "124  img_00018.jpg  0.953298  0.008528  0.001035  0.002662  0.001320   \n",
       "669  img_00027.jpg  0.194681  0.013352  0.001617  0.001859  0.005537   \n",
       "\n",
       "        OTHER     SHARK       YFT  \n",
       "98   0.000070  0.000020  0.000026  \n",
       "709  0.024229  0.003413  0.106613  \n",
       "141  0.000201  0.000043  0.000884  \n",
       "124  0.008410  0.003950  0.020796  \n",
       "669  0.751229  0.006689  0.025035  "
      ]
     },
     "execution_count": 36,
     "metadata": {},
     "output_type": "execute_result"
    }
   ],
   "source": [
    "df2.head()"
   ]
  },
  {
   "cell_type": "code",
   "execution_count": 38,
   "metadata": {
    "collapsed": true
   },
   "outputs": [],
   "source": [
    "df.sort_values('image', inplace=True)"
   ]
  },
  {
   "cell_type": "code",
   "execution_count": 39,
   "metadata": {},
   "outputs": [
    {
     "data": {
      "text/html": [
       "<div>\n",
       "<table border=\"1\" class=\"dataframe\">\n",
       "  <thead>\n",
       "    <tr style=\"text-align: right;\">\n",
       "      <th></th>\n",
       "      <th>image</th>\n",
       "      <th>ALB</th>\n",
       "      <th>BET</th>\n",
       "      <th>DOL</th>\n",
       "      <th>LAG</th>\n",
       "      <th>NoF</th>\n",
       "      <th>OTHER</th>\n",
       "      <th>SHARK</th>\n",
       "      <th>YFT</th>\n",
       "    </tr>\n",
       "  </thead>\n",
       "  <tbody>\n",
       "    <tr>\n",
       "      <th>8874</th>\n",
       "      <td>test_stg2/image_00001.jpg</td>\n",
       "      <td>0.419970</td>\n",
       "      <td>0.038963</td>\n",
       "      <td>0.006004</td>\n",
       "      <td>0.003762</td>\n",
       "      <td>0.388857</td>\n",
       "      <td>0.011125</td>\n",
       "      <td>0.075457</td>\n",
       "      <td>0.055862</td>\n",
       "    </tr>\n",
       "    <tr>\n",
       "      <th>5563</th>\n",
       "      <td>test_stg2/image_00002.jpg</td>\n",
       "      <td>0.978235</td>\n",
       "      <td>0.007304</td>\n",
       "      <td>0.001142</td>\n",
       "      <td>0.000593</td>\n",
       "      <td>0.006650</td>\n",
       "      <td>0.001080</td>\n",
       "      <td>0.000795</td>\n",
       "      <td>0.004202</td>\n",
       "    </tr>\n",
       "    <tr>\n",
       "      <th>7759</th>\n",
       "      <td>test_stg2/image_00003.jpg</td>\n",
       "      <td>0.694308</td>\n",
       "      <td>0.008904</td>\n",
       "      <td>0.001677</td>\n",
       "      <td>0.002752</td>\n",
       "      <td>0.272072</td>\n",
       "      <td>0.003790</td>\n",
       "      <td>0.003122</td>\n",
       "      <td>0.013374</td>\n",
       "    </tr>\n",
       "    <tr>\n",
       "      <th>10507</th>\n",
       "      <td>test_stg2/image_00004.jpg</td>\n",
       "      <td>0.979563</td>\n",
       "      <td>0.000376</td>\n",
       "      <td>0.000949</td>\n",
       "      <td>0.000379</td>\n",
       "      <td>0.002044</td>\n",
       "      <td>0.000510</td>\n",
       "      <td>0.000217</td>\n",
       "      <td>0.015962</td>\n",
       "    </tr>\n",
       "    <tr>\n",
       "      <th>11103</th>\n",
       "      <td>test_stg2/image_00005.jpg</td>\n",
       "      <td>0.832575</td>\n",
       "      <td>0.040178</td>\n",
       "      <td>0.019336</td>\n",
       "      <td>0.010435</td>\n",
       "      <td>0.012434</td>\n",
       "      <td>0.020140</td>\n",
       "      <td>0.030905</td>\n",
       "      <td>0.033998</td>\n",
       "    </tr>\n",
       "  </tbody>\n",
       "</table>\n",
       "</div>"
      ],
      "text/plain": [
       "                           image       ALB       BET       DOL       LAG  \\\n",
       "8874   test_stg2/image_00001.jpg  0.419970  0.038963  0.006004  0.003762   \n",
       "5563   test_stg2/image_00002.jpg  0.978235  0.007304  0.001142  0.000593   \n",
       "7759   test_stg2/image_00003.jpg  0.694308  0.008904  0.001677  0.002752   \n",
       "10507  test_stg2/image_00004.jpg  0.979563  0.000376  0.000949  0.000379   \n",
       "11103  test_stg2/image_00005.jpg  0.832575  0.040178  0.019336  0.010435   \n",
       "\n",
       "            NoF     OTHER     SHARK       YFT  \n",
       "8874   0.388857  0.011125  0.075457  0.055862  \n",
       "5563   0.006650  0.001080  0.000795  0.004202  \n",
       "7759   0.272072  0.003790  0.003122  0.013374  \n",
       "10507  0.002044  0.000510  0.000217  0.015962  \n",
       "11103  0.012434  0.020140  0.030905  0.033998  "
      ]
     },
     "execution_count": 39,
     "metadata": {},
     "output_type": "execute_result"
    }
   ],
   "source": [
    "df.head()"
   ]
  },
  {
   "cell_type": "code",
   "execution_count": 47,
   "metadata": {},
   "outputs": [],
   "source": [
    "dfout = df2.append(df)"
   ]
  },
  {
   "cell_type": "code",
   "execution_count": 49,
   "metadata": {},
   "outputs": [],
   "source": [
    "dfout.to_csv('data/submission_final.csv', index=False)"
   ]
  },
  {
   "cell_type": "code",
   "execution_count": null,
   "metadata": {
    "collapsed": true
   },
   "outputs": [],
   "source": []
  }
 ],
 "metadata": {
  "kernelspec": {
   "display_name": "Python 3",
   "language": "python",
   "name": "python3"
  },
  "language_info": {
   "codemirror_mode": {
    "name": "ipython",
    "version": 3
   },
   "file_extension": ".py",
   "mimetype": "text/x-python",
   "name": "python",
   "nbconvert_exporter": "python",
   "pygments_lexer": "ipython3",
   "version": "3.6.1"
  }
 },
 "nbformat": 4,
 "nbformat_minor": 2
}
